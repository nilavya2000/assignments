{
 "cells": [
  {
   "cell_type": "markdown",
   "id": "44fad631",
   "metadata": {},
   "source": [
    "# Programming Assignment 2\n"
   ]
  },
  {
   "cell_type": "markdown",
   "id": "4b613561",
   "metadata": {},
   "source": [
    "### 1. Write a Python program to convert kilometers to miles?"
   ]
  },
  {
   "cell_type": "code",
   "execution_count": 11,
   "id": "023f1c3e",
   "metadata": {},
   "outputs": [
    {
     "name": "stdout",
     "output_type": "stream",
     "text": [
      "10 km is 6.213699999999999 miles.\n"
     ]
    }
   ],
   "source": [
    "def convert(km):\n",
    "    return km*0.62137  \n",
    "km = 10\n",
    "print(km,\"km is\",convert(km),\"miles.\")"
   ]
  },
  {
   "cell_type": "markdown",
   "id": "f8c88bdd",
   "metadata": {},
   "source": [
    "### 2. Write a Python program to convert Celsius to Fahrenheit?"
   ]
  },
  {
   "cell_type": "code",
   "execution_count": 10,
   "id": "52a8d005",
   "metadata": {},
   "outputs": [
    {
     "name": "stdout",
     "output_type": "stream",
     "text": [
      "32 degree celcius is 89.6 degree in fahrenheit.\n"
     ]
    }
   ],
   "source": [
    "def fahrenheit(celcius):\n",
    "    return (celcius*1.8)+32\n",
    "\n",
    "celcius=32\n",
    "print(celcius,\"degree celcius is\",fahrenheit(celcius),\"degree in fahrenheit.\")"
   ]
  },
  {
   "cell_type": "markdown",
   "id": "8d905944",
   "metadata": {},
   "source": [
    "### 3. Write a Python program to display calendar?"
   ]
  },
  {
   "cell_type": "code",
   "execution_count": 14,
   "id": "f00071f4",
   "metadata": {},
   "outputs": [
    {
     "name": "stdout",
     "output_type": "stream",
     "text": [
      "     July 2022\n",
      "Mo Tu We Th Fr Sa Su\n",
      "             1  2  3\n",
      " 4  5  6  7  8  9 10\n",
      "11 12 13 14 15 16 17\n",
      "18 19 20 21 22 23 24\n",
      "25 26 27 28 29 30 31\n",
      "\n"
     ]
    }
   ],
   "source": [
    "import calendar\n",
    "print(calendar.month(2022, 7))"
   ]
  },
  {
   "cell_type": "markdown",
   "id": "b71cd9d5",
   "metadata": {},
   "source": [
    "### 4. Write a Python program to solve quadratic equation?"
   ]
  },
  {
   "cell_type": "code",
   "execution_count": 26,
   "id": "2e5300bf",
   "metadata": {},
   "outputs": [
    {
     "name": "stdout",
     "output_type": "stream",
     "text": [
      "The quadratic roots are :  (-0.25-0.3227486121839514j) (-0.25+0.3227486121839514j)\n"
     ]
    }
   ],
   "source": [
    "import cmath\n",
    "def quadraticEquation(a,b,c):\n",
    "    dis=(b**2) - (4 * a*c) \n",
    "    quad1 = (-b-cmath.sqrt(dis))/(2 * a)\n",
    "    quad2 = (-b + cmath.sqrt(dis))/(2 * a) \n",
    "    return quad1, quad2 \n",
    "\n",
    "a=6\n",
    "b=3\n",
    "c=1\n",
    "root1, root2 = quadraticEquation(a,b,c)\n",
    "\n",
    "print(\"The quadratic roots are : \", root1, root2)"
   ]
  },
  {
   "cell_type": "markdown",
   "id": "ca866643",
   "metadata": {},
   "source": [
    "### 5. Write a Python program to swap two variables without temp variable?"
   ]
  },
  {
   "cell_type": "code",
   "execution_count": 27,
   "id": "01b96f39",
   "metadata": {},
   "outputs": [
    {
     "name": "stdout",
     "output_type": "stream",
     "text": [
      "Before Swapping: a:-  5 b:-  10\n",
      "After Swapping: a:-  10 b:-  5\n"
     ]
    }
   ],
   "source": [
    "a=5 \n",
    "b=10 \n",
    "print(\"Before Swapping: a:- \",a,\"b:- \",b) \n",
    "a, b = b, a \n",
    "print(\"After Swapping: a:- \",a,\"b:- \",b)"
   ]
  }
 ],
 "metadata": {
  "kernelspec": {
   "display_name": "Python 3 (ipykernel)",
   "language": "python",
   "name": "python3"
  },
  "language_info": {
   "codemirror_mode": {
    "name": "ipython",
    "version": 3
   },
   "file_extension": ".py",
   "mimetype": "text/x-python",
   "name": "python",
   "nbconvert_exporter": "python",
   "pygments_lexer": "ipython3",
   "version": "3.10.4"
  }
 },
 "nbformat": 4,
 "nbformat_minor": 5
}
