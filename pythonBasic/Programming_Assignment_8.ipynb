{
 "cells": [
  {
   "cell_type": "markdown",
   "id": "69a02b7f",
   "metadata": {},
   "source": [
    "# Programming_Assignment_8"
   ]
  },
  {
   "cell_type": "markdown",
   "id": "3ff1808f",
   "metadata": {},
   "source": [
    "### 1. Write a Python Program to Add Two Matrices?"
   ]
  },
  {
   "cell_type": "code",
   "execution_count": 5,
   "id": "6973d3db",
   "metadata": {},
   "outputs": [
    {
     "name": "stdout",
     "output_type": "stream",
     "text": [
      "Matrix:\n",
      " [[1, 2, 3], [4, 5, 6], [7, 8, 9]] \n",
      " [[11, 22, 33], [44, 55, 66], [77, 88, 99]]\n",
      "\n",
      "After addition: \n",
      " [[12, 24, 36], [48, 60, 72], [84, 96, 108]]\n"
     ]
    }
   ],
   "source": [
    "x=[[1,2,3],[4,5,6],[7,8,9]] \n",
    "y=[[11,22,33],[44,55,66],[77,88,99]] \n",
    "\n",
    "result=[[0,0,0],[0,0,0],[0,0,0]]\n",
    "for i in range(len(x)):\n",
    "    for j in range(len(x[0])):\n",
    "        result[i][j]=x[i][j]+y[i][j]\n",
    "print(\"Matrix:\\n\", x, \"\\n\", y)\n",
    "print()\n",
    "print(\"After addition: \\n\",result)"
   ]
  },
  {
   "cell_type": "markdown",
   "id": "1751a478",
   "metadata": {},
   "source": [
    "### 2. Write a Python Program to Multiply Two Matrices?"
   ]
  },
  {
   "cell_type": "code",
   "execution_count": 6,
   "id": "e80c4929",
   "metadata": {},
   "outputs": [
    {
     "name": "stdout",
     "output_type": "stream",
     "text": [
      "Matrix:\n",
      " [[1, 2, 3], [4, 5, 6], [7, 8, 9]] \n",
      " [[11, 22, 33], [44, 55, 66], [77, 88, 99]]\n",
      "\n",
      "After multiplication:\n",
      " [[154, 154, 154], [847, 847, 847], [2134, 2134, 2134]]\n"
     ]
    }
   ],
   "source": [
    "x=[[1,2,3],[4,5,6],[7,8,9]] \n",
    "y=[[11,22,33],[44,55,66],[77,88,99]] \n",
    "\n",
    "result=[[0,0,0],\n",
    "        [0,0,0],\n",
    "        [0,0,0]]\n",
    "\n",
    "for i in range(len(x)):\n",
    "    for j in range(len(y[0])):\n",
    "        for k in range(len(y)): \n",
    "            result[i][j]+=x[i][k]*y[i][k]\n",
    "print(\"Matrix:\\n\", x, \"\\n\", y)\n",
    "print()\n",
    "print(\"After multiplication:\\n\",result)"
   ]
  },
  {
   "cell_type": "markdown",
   "id": "66c76bd4",
   "metadata": {},
   "source": [
    "### 3. Write a Python Program to Transpose a Matrix?"
   ]
  },
  {
   "cell_type": "code",
   "execution_count": 7,
   "id": "0bf30c4d",
   "metadata": {},
   "outputs": [
    {
     "name": "stdout",
     "output_type": "stream",
     "text": [
      "Matrix: [[1, 2, 3], [4, 5, 6], [7, 8, 9]]\n",
      "\n",
      "After Transpose: [[1, 4, 7], [2, 5, 8], [3, 6, 9]]\n"
     ]
    }
   ],
   "source": [
    "x=[[1,2,3],[4,5,6],[7,8,9]] \n",
    "result=[[0,0,0],\n",
    "        [0,0,0],\n",
    "        [0,0,0]]\n",
    "for i in range(len(x)):\n",
    "    for j in range(len(x[0])):\n",
    "        result[j][i]=x[i][j] \n",
    "print(\"Matrix:\", x) \n",
    "print()\n",
    "print(\"After Transpose:\",result)"
   ]
  },
  {
   "cell_type": "markdown",
   "id": "39338714",
   "metadata": {},
   "source": [
    "### 4. Write a Python Program to Sort Words in Alphabetic Order?"
   ]
  },
  {
   "cell_type": "code",
   "execution_count": 8,
   "id": "4a09c2d4",
   "metadata": {},
   "outputs": [
    {
     "name": "stdout",
     "output_type": "stream",
     "text": [
      "Given String: Hi, I have joined ineuron and loving the course.\n",
      "\n",
      "Alphabetic order words of the string: \n",
      " ['and', 'course.', 'have', 'hi,', 'i', 'ineuron', 'joined', 'loving', 'the']\n"
     ]
    }
   ],
   "source": [
    "string=\"Hi, I have joined ineuron and loving the course.\" \n",
    "def sortWords(string):\n",
    "    words=[word.lower() for word in string.split()]\n",
    "    words.sort()\n",
    "    return words\n",
    "print(\"Given String:\",string)\n",
    "print()\n",
    "print(\"Alphabetic order words of the string: \\n\",sortWords(string))"
   ]
  },
  {
   "cell_type": "markdown",
   "id": "d96165e0",
   "metadata": {},
   "source": [
    "### 5. Write a Python Program to Remove Punctuation From a String?"
   ]
  },
  {
   "cell_type": "code",
   "execution_count": 9,
   "id": "2dd5544b",
   "metadata": {},
   "outputs": [
    {
     "name": "stdout",
     "output_type": "stream",
     "text": [
      "Given string:  Hi, Program to remove : Punctuation ! from a String;\n",
      "After removing punctuation:\n",
      " Hi Program to remove  Punctuation  from a String\n"
     ]
    }
   ],
   "source": [
    "import re \n",
    "string = \"Hi, Program to remove : Punctuation ! from a String;\"\n",
    "print(\"Given string: \",string)\n",
    "result = re.sub(r'[^\\w\\s]','',string)\n",
    "print(\"After removing punctuation:\\n\", result)"
   ]
  }
 ],
 "metadata": {
  "kernelspec": {
   "display_name": "Python 3 (ipykernel)",
   "language": "python",
   "name": "python3"
  },
  "language_info": {
   "codemirror_mode": {
    "name": "ipython",
    "version": 3
   },
   "file_extension": ".py",
   "mimetype": "text/x-python",
   "name": "python",
   "nbconvert_exporter": "python",
   "pygments_lexer": "ipython3",
   "version": "3.10.4"
  }
 },
 "nbformat": 4,
 "nbformat_minor": 5
}
