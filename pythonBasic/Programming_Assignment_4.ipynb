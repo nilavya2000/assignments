{
 "cells": [
  {
   "cell_type": "markdown",
   "id": "6f283c44",
   "metadata": {},
   "source": [
    "# Programming_Assignment_4"
   ]
  },
  {
   "cell_type": "markdown",
   "id": "157d20ea",
   "metadata": {},
   "source": [
    "### 1. Write a Python Program to Find the Factorial of a Number?"
   ]
  },
  {
   "cell_type": "code",
   "execution_count": 2,
   "id": "01e5a8a5",
   "metadata": {},
   "outputs": [
    {
     "data": {
      "text/plain": [
       "120"
      ]
     },
     "execution_count": 2,
     "metadata": {},
     "output_type": "execute_result"
    }
   ],
   "source": [
    "def factorial(number):\n",
    "    fact=1\n",
    "    if number > 0:\n",
    "        if number==0:\n",
    "            return 1 \n",
    "        for i in range(1,number+1):\n",
    "            fact*=i \n",
    "        return fact\n",
    "    return \"Should be greater than 0. \"\n",
    "\n",
    "factorial(5)"
   ]
  },
  {
   "cell_type": "markdown",
   "id": "22b7ed36",
   "metadata": {},
   "source": [
    "### 2. Write a Python Program to Display the multiplication Table?"
   ]
  },
  {
   "cell_type": "code",
   "execution_count": 3,
   "id": "ec0e4dad",
   "metadata": {},
   "outputs": [
    {
     "name": "stdout",
     "output_type": "stream",
     "text": [
      "5 * 1 = 5\n",
      "5 * 2 = 10\n",
      "5 * 3 = 15\n",
      "5 * 4 = 20\n",
      "5 * 5 = 25\n",
      "5 * 6 = 30\n",
      "5 * 7 = 35\n",
      "5 * 8 = 40\n",
      "5 * 9 = 45\n",
      "5 * 10 = 50\n"
     ]
    }
   ],
   "source": [
    "def multiplication_table(number):\n",
    "    for i in range(1, 11):\n",
    "        print(number,\"*\",i,\"=\",number*i)\n",
    "multiplication_table(5)"
   ]
  },
  {
   "cell_type": "markdown",
   "id": "4f705fb0",
   "metadata": {},
   "source": [
    "### 3. Write a Python Program to Print the Fibonacci sequence?"
   ]
  },
  {
   "cell_type": "code",
   "execution_count": 4,
   "id": "2fed646a",
   "metadata": {},
   "outputs": [
    {
     "name": "stdout",
     "output_type": "stream",
     "text": [
      "fibonacci sequence:\n",
      "0\n",
      "1\n",
      "1\n",
      "2\n",
      "3\n",
      "5\n",
      "8\n"
     ]
    }
   ],
   "source": [
    "def fibonacci(number):\n",
    "    n1, n2 = 0, 1 \n",
    "    count = 0\n",
    "    if number>0:\n",
    "        if number==1:\n",
    "            return n1\n",
    "        else:\n",
    "            print(\"fibonacci sequence:\")\n",
    "            while count < number:\n",
    "                print(n1)\n",
    "                n1, n2 = n2, n1+n2\n",
    "                count+= 1 \n",
    "fibonacci(7)"
   ]
  },
  {
   "cell_type": "markdown",
   "id": "d128a99b",
   "metadata": {},
   "source": [
    "### 4. Write a Python Program to Check Armstrong Number?"
   ]
  },
  {
   "cell_type": "code",
   "execution_count": 14,
   "id": "c4c926bf",
   "metadata": {},
   "outputs": [
    {
     "data": {
      "text/plain": [
       "True"
      ]
     },
     "execution_count": 14,
     "metadata": {},
     "output_type": "execute_result"
    }
   ],
   "source": [
    "def armstrong(number):\n",
    "    s=0\n",
    "    numb = number\n",
    "    while(numb > 0 ):\n",
    "        digit=numb%10\n",
    "        s+=digit**3\n",
    "        numb//=10\n",
    "    return True if s==number else False \n",
    "armstrong(153)\n",
    "        "
   ]
  },
  {
   "cell_type": "markdown",
   "id": "2c270663",
   "metadata": {},
   "source": [
    "### 5. Write a Python Program to Find Armstrong Number in an Interval?"
   ]
  },
  {
   "cell_type": "code",
   "execution_count": 17,
   "id": "aba98188",
   "metadata": {},
   "outputs": [
    {
     "name": "stdout",
     "output_type": "stream",
     "text": [
      "Armstrong numbers for the given interval:  [1, 153, 370, 371, 407]\n"
     ]
    }
   ],
   "source": [
    "def armstrong(number):\n",
    "    s=0\n",
    "    numb = number\n",
    "    while(numb > 0 ):\n",
    "        digit=numb%10\n",
    "        s+=digit**3\n",
    "        numb//=10\n",
    "    return True if s==number else False\n",
    "def armstrong_numbers(start, end):\n",
    "    l=[]\n",
    "    for i in range(start, end):\n",
    "        if armstrong(i):\n",
    "            l.append(i)\n",
    "    return l \n",
    "\n",
    "number=armstrong_numbers(1,10000)\n",
    "print(\"Armstrong numbers for the given interval: \", number)"
   ]
  },
  {
   "cell_type": "markdown",
   "id": "b0d56012",
   "metadata": {},
   "source": [
    "### 6. Write a Python Program to Find the Sum of Natural Numbers?"
   ]
  },
  {
   "cell_type": "code",
   "execution_count": 21,
   "id": "c9748f0b",
   "metadata": {},
   "outputs": [
    {
     "name": "stdout",
     "output_type": "stream",
     "text": [
      "The sum of 16 numbers is :  136\n"
     ]
    }
   ],
   "source": [
    "def sum_natural_number(number):\n",
    "    if number>0:\n",
    "        s=0\n",
    "        while(number>0):\n",
    "            s+=number\n",
    "            number-=1\n",
    "        return s\n",
    "    return \"Should be +ve interger !! \"\n",
    "n=16\n",
    "print(\"The sum of\",n,\"naturalnumbers is : \",sum_natural_number(16))"
   ]
  },
  {
   "cell_type": "code",
   "execution_count": null,
   "id": "4dc9b130",
   "metadata": {},
   "outputs": [],
   "source": []
  }
 ],
 "metadata": {
  "kernelspec": {
   "display_name": "Python 3 (ipykernel)",
   "language": "python",
   "name": "python3"
  },
  "language_info": {
   "codemirror_mode": {
    "name": "ipython",
    "version": 3
   },
   "file_extension": ".py",
   "mimetype": "text/x-python",
   "name": "python",
   "nbconvert_exporter": "python",
   "pygments_lexer": "ipython3",
   "version": "3.10.4"
  }
 },
 "nbformat": 4,
 "nbformat_minor": 5
}
