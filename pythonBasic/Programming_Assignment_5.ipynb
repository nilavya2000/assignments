{
 "cells": [
  {
   "cell_type": "markdown",
   "id": "1e958b29",
   "metadata": {},
   "source": [
    "# Programming_Assignment_5"
   ]
  },
  {
   "cell_type": "markdown",
   "id": "b71a2029",
   "metadata": {},
   "source": [
    "### 1. Write a Python Program to Find LCM?"
   ]
  },
  {
   "cell_type": "code",
   "execution_count": 4,
   "id": "a9f0a968",
   "metadata": {},
   "outputs": [
    {
     "name": "stdout",
     "output_type": "stream",
     "text": [
      "Lcm of 54 and 24 is 216\n"
     ]
    }
   ],
   "source": [
    "def lcm(a, b):\n",
    "    m= max(a,b)\n",
    "    while(True):\n",
    "        if((m%a == 0)and (m%b==0)):\n",
    "            lcm=m\n",
    "            break\n",
    "        m+=1\n",
    "    return lcm \n",
    "number1=54\n",
    "number2=24\n",
    "\n",
    "print(\"Lcm of\",number1,\"and\",number2,\"is\",lcm(number1,number2)) "
   ]
  },
  {
   "cell_type": "markdown",
   "id": "7c084af7",
   "metadata": {},
   "source": [
    "### 2. Write a Python Program to Find HCF? "
   ]
  },
  {
   "cell_type": "code",
   "execution_count": 9,
   "id": "b9655acc",
   "metadata": {},
   "outputs": [
    {
     "name": "stdout",
     "output_type": "stream",
     "text": [
      "HCF of 45 and 54 is: 9\n"
     ]
    }
   ],
   "source": [
    "def hcf(a, b):\n",
    "    m=min(a, b)\n",
    "    for i in range(1,m+1):\n",
    "        if((a%i==0)and (b%i==0)):\n",
    "            hcf=i\n",
    "    return hcf\n",
    "numb1=45\n",
    "numb2=54\n",
    "print(\"HCF of\",numb1,\"and\",numb2,\"is:\",hcf(numb1, numb2))"
   ]
  },
  {
   "cell_type": "markdown",
   "id": "34a3ca88",
   "metadata": {},
   "source": [
    "### 3. Write a Python Program to Convert Decimal to Binary, Octal and Hexadecimal?"
   ]
  },
  {
   "cell_type": "code",
   "execution_count": 12,
   "id": "d1da01fc",
   "metadata": {},
   "outputs": [
    {
     "name": "stdout",
     "output_type": "stream",
     "text": [
      "Decimal: 45\n",
      "Binary: 0b101101\n",
      "Octal: 0o55\n",
      "Hexadecimal: 0x2d\n"
     ]
    }
   ],
   "source": [
    "number=45 \n",
    "print(\"Decimal:\",number)\n",
    "print(\"Binary:\",bin(number))\n",
    "print(\"Octal:\", oct(number))\n",
    "print(\"Hexadecimal:\", hex(number))"
   ]
  },
  {
   "cell_type": "markdown",
   "id": "3f6a29ca",
   "metadata": {},
   "source": [
    "### 4. Write a Python Program To Find ASCII value of a character?"
   ]
  },
  {
   "cell_type": "code",
   "execution_count": 11,
   "id": "6907ba09",
   "metadata": {},
   "outputs": [
    {
     "name": "stdout",
     "output_type": "stream",
     "text": [
      "ASCII value of A is: 65\n"
     ]
    }
   ],
   "source": [
    "character=\"A\"\n",
    "print(\"ASCII value of\",character,\"is:\",ord(character))"
   ]
  },
  {
   "cell_type": "markdown",
   "id": "c28508d5",
   "metadata": {},
   "source": [
    "### 5. Write a Python Program to Make a Simple Calculator with 4 basic mathematical operations?"
   ]
  },
  {
   "cell_type": "code",
   "execution_count": 28,
   "id": "31ddd2ef",
   "metadata": {},
   "outputs": [
    {
     "name": "stdout",
     "output_type": "stream",
     "text": [
      "CALCULATOR\n",
      "1.ADD\n",
      "2.SUBTRACT\n",
      "3.MULTIPLY\n",
      "4.DIVIDE\n",
      "Anything outside this will quit the calculator\n",
      "Enter your choice:-2\n",
      "Enter the first number: 1\n",
      "Enter the second number: 2\n",
      "Substraction of 1.0 and 2.0 is:- -1.0\n",
      "Enter your choice:-3\n",
      "Enter the first number: 4\n",
      "Enter the second number: 5\n",
      "Multiplication of 4.0 and 5.0 is:- 20.0\n",
      "Enter your choice:-6\n",
      "Quit\n"
     ]
    }
   ],
   "source": [
    "def calculator(a, b):\n",
    "    return a+b, a-b, a*b, a/b\n",
    "print(\"CALCULATOR\\n1.ADD\\n2.SUBTRACT\\n3.MULTIPLY\\n4.DIVIDE\\nAnything outside this will quit the calculator\")\n",
    "while True:\n",
    "    choice=int(input(\"Enter your choice:-\"))\n",
    "    if choice in (1,2,3,4):\n",
    "        num1=float(input(\"Enter the first number: \"))\n",
    "        num2=float(input(\"Enter the second number: \"))\n",
    "        if choice==1:\n",
    "            print(\"Addition of\",num1,\"and\",num2,\"is:-\",num1+num2)\n",
    "        if choice==2:\n",
    "            print(\"Substraction of\",num1,\"and\",num2,\"is:-\",num1-num2)\n",
    "        if choice==3:\n",
    "            print(\"Multiplication of\",num1,\"and\",num2,\"is:-\",num1*num2)\n",
    "        if choice==4:\n",
    "            try:\n",
    "                print(\"Division of\",num1,\"and\",num2,\"is:-\",num1/num2)\n",
    "            except:\n",
    "                print(\"cannot divide Float division error\")\n",
    "    else:\n",
    "        print(\"Quit\")\n",
    "        break\n",
    "        "
   ]
  }
 ],
 "metadata": {
  "kernelspec": {
   "display_name": "Python 3 (ipykernel)",
   "language": "python",
   "name": "python3"
  },
  "language_info": {
   "codemirror_mode": {
    "name": "ipython",
    "version": 3
   },
   "file_extension": ".py",
   "mimetype": "text/x-python",
   "name": "python",
   "nbconvert_exporter": "python",
   "pygments_lexer": "ipython3",
   "version": "3.10.4"
  }
 },
 "nbformat": 4,
 "nbformat_minor": 5
}
