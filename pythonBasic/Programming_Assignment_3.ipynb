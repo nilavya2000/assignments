{
 "cells": [
  {
   "cell_type": "markdown",
   "id": "e78c2fbc",
   "metadata": {},
   "source": [
    "# Programming_Assignment_3"
   ]
  },
  {
   "cell_type": "markdown",
   "id": "a64fdaaa",
   "metadata": {},
   "source": [
    "### 1. Write a Python Program to Check if a Number is Positive, Negative or Zero?"
   ]
  },
  {
   "cell_type": "code",
   "execution_count": 7,
   "id": "4cff5e43",
   "metadata": {},
   "outputs": [
    {
     "data": {
      "text/plain": [
       "'positive'"
      ]
     },
     "execution_count": 7,
     "metadata": {},
     "output_type": "execute_result"
    }
   ],
   "source": [
    "def checkNumber(number):\n",
    "    if number == 0:\n",
    "        return \"Zero\"\n",
    "    return \"positive\" if number >0 else \"negative\"\n",
    "checkNumber(5)"
   ]
  },
  {
   "cell_type": "markdown",
   "id": "75b41781",
   "metadata": {},
   "source": [
    "### 2. Write a Python Program to Check if a Number is Odd or Even?"
   ]
  },
  {
   "cell_type": "code",
   "execution_count": 14,
   "id": "34114f80",
   "metadata": {},
   "outputs": [
    {
     "name": "stdout",
     "output_type": "stream",
     "text": [
      "Given number 5 is : odd\n"
     ]
    }
   ],
   "source": [
    "def oddEven(number):\n",
    "    return \"even\" if number%2 == 0 else \"odd\"\n",
    "num =5 \n",
    "print(\"Given number\",num,\"is :\",oddEven(num))"
   ]
  },
  {
   "cell_type": "markdown",
   "id": "9ace3831",
   "metadata": {},
   "source": [
    "### 3. Write a Python Program to Check Leap Year?"
   ]
  },
  {
   "cell_type": "code",
   "execution_count": 18,
   "id": "c55d512c",
   "metadata": {},
   "outputs": [
    {
     "name": "stdout",
     "output_type": "stream",
     "text": [
      "2004 is a leap year\n"
     ]
    }
   ],
   "source": [
    "def leapYear(year):\n",
    "    return \"leap year\" if ((year % 400 == 0) and (year % 100 == 0) or (year % 4 ==0) and (year % 100 != 0)) else \"not a leap year\"\n",
    "year=2004\n",
    "print(year,\"is a\",leapYear(year))"
   ]
  },
  {
   "cell_type": "markdown",
   "id": "aa8dd4a3",
   "metadata": {},
   "source": [
    "### 4. Write a Python Program to Check Prime Number?"
   ]
  },
  {
   "cell_type": "code",
   "execution_count": 39,
   "id": "d5d999e5",
   "metadata": {},
   "outputs": [
    {
     "name": "stdout",
     "output_type": "stream",
     "text": [
      "5 is a prime number.\n"
     ]
    }
   ],
   "source": [
    "def primeNumber(number):\n",
    "    flag=False\n",
    "    if number > 1:\n",
    "        for i in range(2,number):\n",
    "            if (number%i)==0:\n",
    "                flag= True\n",
    "                break\n",
    "    return \"not prime\" if flag else \"prime\"\n",
    "num = 5\n",
    "print(num,\"is a\",primeNumber(num),\"number.\")"
   ]
  },
  {
   "cell_type": "markdown",
   "id": "4552cf82",
   "metadata": {},
   "source": [
    "### 5. Write a Python Program to Print all Prime Numbers in an Interval of 1-10000?"
   ]
  },
  {
   "cell_type": "code",
   "execution_count": 48,
   "id": "de4733ce",
   "metadata": {},
   "outputs": [
    {
     "name": "stdout",
     "output_type": "stream",
     "text": [
      "Prme numbers in a interval of 1 to 1000 is\n",
      "[1, 2, 3, 5, 7, 11, 13, 17, 19, 23, 29, 31, 37, 41, 43, 47, 53, 59, 61, 67, 71, 73, 79, 83, 89, 97, 101, 103, 107, 109, 113, 127, 131, 137, 139, 149, 151, 157, 163, 167, 173, 179, 181, 191, 193, 197, 199, 211, 223, 227, 229, 233, 239, 241, 251, 257, 263, 269, 271, 277, 281, 283, 293, 307, 311, 313, 317, 331, 337, 347, 349, 353, 359, 367, 373, 379, 383, 389, 397, 401, 409, 419, 421, 431, 433, 439, 443, 449, 457, 461, 463, 467, 479, 487, 491, 499, 503, 509, 521, 523, 541, 547, 557, 563, 569, 571, 577, 587, 593, 599, 601, 607, 613, 617, 619, 631, 641, 643, 647, 653, 659, 661, 673, 677, 683, 691, 701, 709, 719, 727, 733, 739, 743, 751, 757, 761, 769, 773, 787, 797, 809, 811, 821, 823, 827, 829, 839, 853, 857, 859, 863, 877, 881, 883, 887, 907, 911, 919, 929, 937, 941, 947, 953, 967, 971, 977, 983, 991, 997]\n"
     ]
    }
   ],
   "source": [
    "def primeNumber(number):\n",
    "    flag=False\n",
    "    if number > 1:\n",
    "        for i in range(2,number):\n",
    "            if (number%i)==0:\n",
    "                flag= True\n",
    "                break\n",
    "    return \"not prime\" if flag else \"prime\"\n",
    "l=[]\n",
    "for i in range(1,1000):\n",
    "    if primeNumber(i)==\"prime\":\n",
    "        l.append(i)\n",
    "print(\"Prme numbers in a interval of 1 to 1000 is\")\n",
    "print(l)"
   ]
  }
 ],
 "metadata": {
  "kernelspec": {
   "display_name": "Python 3 (ipykernel)",
   "language": "python",
   "name": "python3"
  },
  "language_info": {
   "codemirror_mode": {
    "name": "ipython",
    "version": 3
   },
   "file_extension": ".py",
   "mimetype": "text/x-python",
   "name": "python",
   "nbconvert_exporter": "python",
   "pygments_lexer": "ipython3",
   "version": "3.10.4"
  }
 },
 "nbformat": 4,
 "nbformat_minor": 5
}
