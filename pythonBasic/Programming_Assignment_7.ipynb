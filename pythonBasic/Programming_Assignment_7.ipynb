{
 "cells": [
  {
   "cell_type": "markdown",
   "id": "1a8959c5",
   "metadata": {},
   "source": [
    "# Programming_Assignment_7"
   ]
  },
  {
   "cell_type": "markdown",
   "id": "0482279d",
   "metadata": {},
   "source": [
    "### 1. Write a Python Program to find sum of array?"
   ]
  },
  {
   "cell_type": "code",
   "execution_count": 7,
   "id": "7b8dd716",
   "metadata": {},
   "outputs": [
    {
     "name": "stdout",
     "output_type": "stream",
     "text": [
      "The sum of the given array is: 29\n"
     ]
    }
   ],
   "source": [
    "def sumArr(arr):\n",
    "    s=0\n",
    "    for i in arr:\n",
    "        s+=i\n",
    "    return s\n",
    "arr=[1,5,6,7,10]\n",
    "print(\"The sum of the given array is:\",sumArr(arr))"
   ]
  },
  {
   "cell_type": "markdown",
   "id": "36f122ea",
   "metadata": {},
   "source": [
    "### 2. Write a Python Program to find largest element in an array?"
   ]
  },
  {
   "cell_type": "code",
   "execution_count": 8,
   "id": "80defeba",
   "metadata": {},
   "outputs": [
    {
     "name": "stdout",
     "output_type": "stream",
     "text": [
      "Largest element in the array [1, 5, 7, 8, 9, 12] is: 12\n"
     ]
    }
   ],
   "source": [
    "def largestArr(arr):\n",
    "    m=arr[0]\n",
    "    for i in arr:\n",
    "        if i>m:\n",
    "            m=i\n",
    "    return m \n",
    "arr=[1,5,7,8,9,12]\n",
    "print(\"Largest element in the array\",arr,\"is:\",largestArr(arr))"
   ]
  },
  {
   "cell_type": "markdown",
   "id": "041afd2e",
   "metadata": {},
   "source": [
    "### 3. Write a Python Program for array rotation?"
   ]
  },
  {
   "cell_type": "code",
   "execution_count": 9,
   "id": "094b5e30",
   "metadata": {},
   "outputs": [
    {
     "name": "stdout",
     "output_type": "stream",
     "text": [
      "Array: [1, 2, 3, 4, 5, 6, 7, 8, 9]\n",
      "After Rotation by 5 : [6, 7, 8, 9, 1, 2, 3, 4, 5]\n"
     ]
    }
   ],
   "source": [
    "def rotateArray(arr, rotation):\n",
    "    arr[:] = arr[rotation:len(arr)]+arr[0:rotation]\n",
    "    return arr\n",
    "a=[1,2,3,4,5,6,7,8,9]\n",
    "rotation=5\n",
    "print(\"Array:\",a)\n",
    "print(\"After Rotation by\",rotation,\":\",rotateArray(a, rotation))"
   ]
  },
  {
   "cell_type": "markdown",
   "id": "15b7a410",
   "metadata": {},
   "source": [
    "### 4. Write a Python Program to Split the array and add the first part to the end?"
   ]
  },
  {
   "cell_type": "code",
   "execution_count": 10,
   "id": "34b3f342",
   "metadata": {},
   "outputs": [
    {
     "name": "stdout",
     "output_type": "stream",
     "text": [
      "Array: [1, 2, 3, 4, 5, 6, 7, 8, 9, 10]\n",
      "After Splitting by 4 : [5, 6, 7, 8, 9, 10, 1, 2, 3, 4]\n"
     ]
    }
   ],
   "source": [
    "def splitAdd(arr, split):\n",
    "    arr[:]=arr[split:len(arr)] + arr[0:split]\n",
    "    return arr \n",
    "b=[1,2,3,4,5,6,7,8,9,10]\n",
    "splitPosition = 4\n",
    "print(\"Array:\",b)\n",
    "print(\"After Splitting by\",splitPosition,\":\",splitAdd(b, splitPosition))"
   ]
  },
  {
   "cell_type": "markdown",
   "id": "dcda1c4c",
   "metadata": {},
   "source": [
    "### 5. Write a Python Program to check if given array is Monotonic?"
   ]
  },
  {
   "cell_type": "code",
   "execution_count": 13,
   "id": "9c693e39",
   "metadata": {},
   "outputs": [
    {
     "name": "stdout",
     "output_type": "stream",
     "text": [
      "Array: [6, 5, 4, 4]\n",
      "is Monotonic: True\n"
     ]
    }
   ],
   "source": [
    "def isMonotonic(arr):\n",
    "    return (all(arr[i] >= arr[i+1] for i in range (len(arr)-1)) or \n",
    "            all(arr[i] >= arr[i+1] for i in range(len(arr)-1)))\n",
    "arr=[6,5,4,4]\n",
    "print(\"Array:\",arr)\n",
    "print(\"is Monotonic:\",isMonotonic([6,5,4,4]))"
   ]
  }
 ],
 "metadata": {
  "kernelspec": {
   "display_name": "Python 3 (ipykernel)",
   "language": "python",
   "name": "python3"
  },
  "language_info": {
   "codemirror_mode": {
    "name": "ipython",
    "version": 3
   },
   "file_extension": ".py",
   "mimetype": "text/x-python",
   "name": "python",
   "nbconvert_exporter": "python",
   "pygments_lexer": "ipython3",
   "version": "3.10.4"
  }
 },
 "nbformat": 4,
 "nbformat_minor": 5
}
