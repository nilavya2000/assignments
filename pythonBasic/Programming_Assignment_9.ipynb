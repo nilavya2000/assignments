{
 "cells": [
  {
   "cell_type": "markdown",
   "id": "91d2cb23",
   "metadata": {},
   "source": [
    "# Programming_Assignment_9"
   ]
  },
  {
   "cell_type": "markdown",
   "id": "de527c6f",
   "metadata": {},
   "source": [
    "### 1. Write a Python program to check if the given number is a Disarium Number?"
   ]
  },
  {
   "cell_type": "code",
   "execution_count": 17,
   "id": "b9feb0cb",
   "metadata": {},
   "outputs": [
    {
     "name": "stdout",
     "output_type": "stream",
     "text": [
      "Number: 175\n",
      "Is Disarium: True\n"
     ]
    }
   ],
   "source": [
    "def isDisarium(number):\n",
    "    n=number\n",
    "    s=0\n",
    "    while(n>0):\n",
    "        d=n%10\n",
    "        s+=d**len(str(n))\n",
    "        n//=10\n",
    "    if s == number:\n",
    "        return True\n",
    "    else:\n",
    "        return False\n",
    "number=175 \n",
    "print(\"Number:\",number)\n",
    "print(\"Is Disarium:\",isDisarium(175))\n",
    "        "
   ]
  },
  {
   "cell_type": "markdown",
   "id": "3902dbe9",
   "metadata": {},
   "source": [
    "### 2. Write a Python program to print all disarium numbers between 1 to 100?"
   ]
  },
  {
   "cell_type": "code",
   "execution_count": 54,
   "id": "24583d69",
   "metadata": {},
   "outputs": [
    {
     "name": "stdout",
     "output_type": "stream",
     "text": [
      "Disarium numbers between 1 and 100 : \n",
      "1, 2, 3, 4, 5, 6, 7, 8, 9, 89, "
     ]
    }
   ],
   "source": [
    "def isDisarium(number):\n",
    "    n=number\n",
    "    s=0\n",
    "    while(n>0):\n",
    "        d=n%10\n",
    "        s+=d**len(str(n))\n",
    "        n//=10\n",
    "    if s == number:\n",
    "        return True\n",
    "    else:\n",
    "        return False \n",
    "start=1\n",
    "end=100\n",
    "print(\"Disarium numbers between\",start,\"and\",end,\": \")\n",
    "for i in range(start, end):\n",
    "    if isDisarium(i):\n",
    "        print(i, end=\", \")"
   ]
  },
  {
   "cell_type": "markdown",
   "id": "f89b9c58",
   "metadata": {},
   "source": [
    "### 3. Write a Python program to check if the given number is Happy Number?"
   ]
  },
  {
   "cell_type": "code",
   "execution_count": 50,
   "id": "99126cd2",
   "metadata": {
    "scrolled": true
   },
   "outputs": [
    {
     "name": "stdout",
     "output_type": "stream",
     "text": [
      "Number: 49\n",
      "Is Happy Number: True\n"
     ]
    }
   ],
   "source": [
    "def happyNumber(number):\n",
    "    s=number\n",
    "    past=set()\n",
    "    while(s!=1):\n",
    "        s=sum(int(i)**2 for i in str(s))\n",
    "        if s in past:\n",
    "            return False\n",
    "        past.add(s)\n",
    "    return True\n",
    "number=49\n",
    "print(\"Number:\",number)\n",
    "print(\"Is Happy Number:\",happyNumber(number))\n"
   ]
  },
  {
   "cell_type": "markdown",
   "id": "1be39de6",
   "metadata": {},
   "source": [
    "### 4. Write a Python program to print all happy numbers between 1 and 100?"
   ]
  },
  {
   "cell_type": "code",
   "execution_count": 53,
   "id": "90181873",
   "metadata": {},
   "outputs": [
    {
     "name": "stdout",
     "output_type": "stream",
     "text": [
      "Happy numbers between 1 and 100 : \n",
      "1, 7, 10, 13, 19, 23, 28, 31, 32, 44, 49, 68, 70, 79, 82, 86, 91, 94, 97, "
     ]
    }
   ],
   "source": [
    "def happyNumber(number):\n",
    "    s=number\n",
    "    past=set()\n",
    "    while(s!=1):\n",
    "        s=sum(int(i)**2 for i in str(s))\n",
    "        if s in past:\n",
    "            return False\n",
    "        past.add(s)\n",
    "    return True\n",
    "start=1\n",
    "end=100\n",
    "print(\"Happy numbers between\",start,\"and\",end,\": \")\n",
    "for i in range(start, end):\n",
    "    if happyNumber(i):\n",
    "        print(i, end=\", \")"
   ]
  },
  {
   "cell_type": "markdown",
   "id": "35f9af4e",
   "metadata": {},
   "source": [
    "### 5. Write a Python program to determine whether the given number is a Harshad Number?"
   ]
  },
  {
   "cell_type": "code",
   "execution_count": 59,
   "id": "17fd3cfe",
   "metadata": {},
   "outputs": [
    {
     "name": "stdout",
     "output_type": "stream",
     "text": [
      "Number: 8\n",
      "Is harshed number: True\n"
     ]
    }
   ],
   "source": [
    "def isHarshedNumber(number):\n",
    "    s=sum(int(i) for i in str(number))\n",
    "    if s%number==0:\n",
    "        return True\n",
    "    else:\n",
    "        return False\n",
    "number=8\n",
    "print(\"Number:\",number)\n",
    "print(\"Is harshed number:\",isHarshedNumber(number))"
   ]
  },
  {
   "cell_type": "markdown",
   "id": "aefd19f7",
   "metadata": {},
   "source": [
    "### 6. Write a Python program to print all pronic numbers between 1 and 100?"
   ]
  },
  {
   "cell_type": "code",
   "execution_count": 94,
   "id": "d1defd48",
   "metadata": {},
   "outputs": [
    {
     "name": "stdout",
     "output_type": "stream",
     "text": [
      "Pronic numbers between 1 and 100 : \n",
      "2, 6, 12, 20, 30, 42, 56, 72, 90, "
     ]
    }
   ],
   "source": [
    "def isPronic(n):\n",
    "    for j in range(1,n+1):\n",
    "        if (j*(j+1)==n):\n",
    "            return True\n",
    "    return False\n",
    "start=1\n",
    "end=100\n",
    "print(\"Pronic numbers between\",start,\"and\",end,\": \")\n",
    "for i in range(start, end):\n",
    "    if isPronic(i):\n",
    "        print(i, end=\", \")\n"
   ]
  }
 ],
 "metadata": {
  "kernelspec": {
   "display_name": "Python 3 (ipykernel)",
   "language": "python",
   "name": "python3"
  },
  "language_info": {
   "codemirror_mode": {
    "name": "ipython",
    "version": 3
   },
   "file_extension": ".py",
   "mimetype": "text/x-python",
   "name": "python",
   "nbconvert_exporter": "python",
   "pygments_lexer": "ipython3",
   "version": "3.10.4"
  }
 },
 "nbformat": 4,
 "nbformat_minor": 5
}
