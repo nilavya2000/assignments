{
 "cells": [
  {
   "cell_type": "markdown",
   "id": "20d77704",
   "metadata": {},
   "source": [
    "# Programming Assignment 1"
   ]
  },
  {
   "cell_type": "markdown",
   "id": "60028dca",
   "metadata": {},
   "source": [
    "### 1. Write a Python program to print 'Hello Python'?"
   ]
  },
  {
   "cell_type": "code",
   "execution_count": 1,
   "id": "10bdf420",
   "metadata": {},
   "outputs": [
    {
     "name": "stdout",
     "output_type": "stream",
     "text": [
      "Hello Python\n"
     ]
    }
   ],
   "source": [
    "print(\"Hello Python\")"
   ]
  },
  {
   "cell_type": "markdown",
   "id": "c4d1d975",
   "metadata": {},
   "source": [
    "### 2. Write a Python program to do arithmetical operations addition and division.?"
   ]
  },
  {
   "cell_type": "code",
   "execution_count": 6,
   "id": "55fa95d1",
   "metadata": {},
   "outputs": [
    {
     "name": "stdout",
     "output_type": "stream",
     "text": [
      "addition:-  6 \n",
      "Divide:-  2.0\n"
     ]
    }
   ],
   "source": [
    "def add_division(a, b):\n",
    "    add = a+b\n",
    "    divide = a/b \n",
    "    return add, divide\n",
    "add, divide = add_division(4,2)\n",
    "print(\"addition:- \",add, \"\\nDivide:- \",divide)"
   ]
  },
  {
   "cell_type": "markdown",
   "id": "2f27a611",
   "metadata": {},
   "source": [
    "### 3. Write a Python program to find the area of a triangle?"
   ]
  },
  {
   "cell_type": "code",
   "execution_count": 9,
   "id": "7a748083",
   "metadata": {},
   "outputs": [
    {
     "name": "stdout",
     "output_type": "stream",
     "text": [
      "Area of a triangle of given base and height is  5.0\n"
     ]
    }
   ],
   "source": [
    "def areaTriangle(b,h):\n",
    "    return 0.5*(b*h)\n",
    "print(\"Area of a triangle of given base and height is \",areaTriangle(5,2))"
   ]
  },
  {
   "cell_type": "markdown",
   "id": "6f3ba90d",
   "metadata": {},
   "source": [
    "### 4. Write a Python program to swap two variables?"
   ]
  },
  {
   "cell_type": "code",
   "execution_count": 12,
   "id": "75cfb4b6",
   "metadata": {},
   "outputs": [
    {
     "name": "stdout",
     "output_type": "stream",
     "text": [
      "Before swapping \n",
      "a:-  5  b:-  2\n",
      "After swapping \n",
      "a:-  2  b:-  5\n"
     ]
    }
   ],
   "source": [
    "def swap(a,b):\n",
    "    temp=a\n",
    "    a=b\n",
    "    b=temp\n",
    "    return a, b\n",
    "a=5\n",
    "b=2\n",
    "print(\"Before swapping \\na:- \",a,\" b:- \",b)\n",
    "a, b = swap(a,b)\n",
    "print(\"After swapping \\na:- \",a,\" b:- \",b)\n"
   ]
  },
  {
   "cell_type": "markdown",
   "id": "55a2d69b",
   "metadata": {},
   "source": [
    "### 5. Write a Python program to generate a random number?"
   ]
  },
  {
   "cell_type": "code",
   "execution_count": 16,
   "id": "62f5ecb1",
   "metadata": {},
   "outputs": [
    {
     "name": "stdout",
     "output_type": "stream",
     "text": [
      "Random number generation :-  0.6354131881995192\n"
     ]
    }
   ],
   "source": [
    "import random\n",
    "print(\"Random number generation :- \",random.random())"
   ]
  }
 ],
 "metadata": {
  "kernelspec": {
   "display_name": "Python 3 (ipykernel)",
   "language": "python",
   "name": "python3"
  },
  "language_info": {
   "codemirror_mode": {
    "name": "ipython",
    "version": 3
   },
   "file_extension": ".py",
   "mimetype": "text/x-python",
   "name": "python",
   "nbconvert_exporter": "python",
   "pygments_lexer": "ipython3",
   "version": "3.10.4"
  }
 },
 "nbformat": 4,
 "nbformat_minor": 5
}
