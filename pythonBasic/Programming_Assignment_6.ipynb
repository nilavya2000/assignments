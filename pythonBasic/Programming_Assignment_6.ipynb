{
 "cells": [
  {
   "cell_type": "markdown",
   "id": "cb41a07c",
   "metadata": {},
   "source": [
    "# Programming_Assignment_6"
   ]
  },
  {
   "cell_type": "markdown",
   "id": "5ccc01ec",
   "metadata": {},
   "source": [
    "### 1. Write a Python Program to Display Fibonacci Sequence Using Recursion?"
   ]
  },
  {
   "cell_type": "code",
   "execution_count": 9,
   "id": "ba802c56",
   "metadata": {},
   "outputs": [
    {
     "name": "stdout",
     "output_type": "stream",
     "text": [
      "Fibonacci Series: \n",
      "0\n",
      "1\n",
      "1\n",
      "2\n",
      "3\n",
      "5\n",
      "8\n",
      "13\n",
      "21\n",
      "34\n"
     ]
    }
   ],
   "source": [
    "def fibonacci(n):\n",
    "    if n<=1:\n",
    "        return n\n",
    "    else:\n",
    "        return(fibonacci(n-1)+fibonacci(n-2)) \n",
    "    \n",
    "number=10\n",
    "if number<0:\n",
    "    print(\"ONLY POSTIVE NUMBER !!\")\n",
    "else:\n",
    "    print('Fibonacci Series: ')\n",
    "    for i in range(number):\n",
    "        print(fibonacci(i))"
   ]
  },
  {
   "cell_type": "markdown",
   "id": "dbc9a151",
   "metadata": {},
   "source": [
    "### 2. Write a Python Program to Find Factorial of Number Using Recursion?"
   ]
  },
  {
   "cell_type": "code",
   "execution_count": 14,
   "id": "8774d390",
   "metadata": {},
   "outputs": [
    {
     "name": "stdout",
     "output_type": "stream",
     "text": [
      "factorial of 7 is: 5040\n"
     ]
    }
   ],
   "source": [
    "def factorial(n):\n",
    "    if n<0:\n",
    "        return \"Positive Number\"\n",
    "    if n==1:\n",
    "        return n\n",
    "    else:\n",
    "        return n*factorial(n-1)\n",
    "print(\"factorial of 7 is:\", factorial(7))"
   ]
  },
  {
   "cell_type": "markdown",
   "id": "bee66eb1",
   "metadata": {},
   "source": [
    "### 3. Write a Python Program to calculate your Body Mass Index?"
   ]
  },
  {
   "cell_type": "code",
   "execution_count": 18,
   "id": "c5977641",
   "metadata": {},
   "outputs": [
    {
     "name": "stdout",
     "output_type": "stream",
     "text": [
      "A person of 57 kg and a height of 155 cm has a BMI of 23.725286160249738\n"
     ]
    }
   ],
   "source": [
    "def BMI(weight, height):\n",
    "    return (weight/(height/100)**2)\n",
    "weight = 57\n",
    "height = 155 \n",
    "print(\"A person of\",weight,\"kg and a height of\",height,\"cm has a BMI of\",BMI(weight, height))"
   ]
  },
  {
   "cell_type": "markdown",
   "id": "dd5a3284",
   "metadata": {},
   "source": [
    "### 4. Write a Python Program to calculate the natural logarithm of any number?"
   ]
  },
  {
   "cell_type": "code",
   "execution_count": 20,
   "id": "53e61505",
   "metadata": {},
   "outputs": [
    {
     "name": "stdout",
     "output_type": "stream",
     "text": [
      "Logarithm of 45 is: 3.8066624897703196\n"
     ]
    }
   ],
   "source": [
    "import math\n",
    "number=45 \n",
    "print(\"Logarithm of\",number,\"is:\",math.log(number))"
   ]
  },
  {
   "cell_type": "markdown",
   "id": "a52d3b4a",
   "metadata": {},
   "source": [
    "### 5. Write a Python Program for cube sum of first n natural numbers?"
   ]
  },
  {
   "cell_type": "code",
   "execution_count": 28,
   "id": "b16f6e5a",
   "metadata": {},
   "outputs": [
    {
     "name": "stdout",
     "output_type": "stream",
     "text": [
      "the cube sum of 5 numbers is: 225\n"
     ]
    }
   ],
   "source": [
    "def cubeSum(n):\n",
    "    s=0\n",
    "    for i in range(n+1):\n",
    "        s+=i**3 \n",
    "    return s\n",
    "\n",
    "num=5\n",
    "print(\"the cube sum of\",num,\"numbers is:\",cubeSum(num))"
   ]
  }
 ],
 "metadata": {
  "kernelspec": {
   "display_name": "Python 3 (ipykernel)",
   "language": "python",
   "name": "python3"
  },
  "language_info": {
   "codemirror_mode": {
    "name": "ipython",
    "version": 3
   },
   "file_extension": ".py",
   "mimetype": "text/x-python",
   "name": "python",
   "nbconvert_exporter": "python",
   "pygments_lexer": "ipython3",
   "version": "3.10.4"
  }
 },
 "nbformat": 4,
 "nbformat_minor": 5
}
